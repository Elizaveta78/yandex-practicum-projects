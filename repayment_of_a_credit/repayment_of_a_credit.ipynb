{
 "cells": [
  {
   "cell_type": "markdown",
   "id": "4bbfa7ff",
   "metadata": {},
   "source": [
    "# Исследование надежности заемщиков"
   ]
  },
  {
   "cell_type": "markdown",
   "id": "0fc91788",
   "metadata": {},
   "source": [
    "Это первый учебный проект, который проверяет знания основ языка python. В этом проекте необходимо проанализировать данные о платежеспособности клиентов банка и выявить закономерность различных характеристик клиентов с возвратом долга в срок.  \n",
    "\n",
    "Первая половина проекта выполнялась по конкретным заданиям с единственным верным ответом. Во второй части проекта (шаг 3 и 4) необходимо было ответить на вопросы, для этого необходимо самостоятельно определить нужные вычисления и визуализации."
   ]
  },
  {
   "cell_type": "markdown",
   "id": "83a62856",
   "metadata": {},
   "source": [
    "## Описание данных"
   ]
  },
  {
   "cell_type": "markdown",
   "id": "78badb3a",
   "metadata": {},
   "source": [
    "- `children` — количество детей в семье\n",
    "- `days_employed` — общий трудовой стаж в днях\n",
    "- `dob_years` — возраст клиента в годах\n",
    "- `education` — уровень образования клиента\n",
    "- `education_id` — идентификатор уровня образования\n",
    "- `family_status` — семейное положение\n",
    "- `family_status_id` — идентификатор семейного положения\n",
    "- `gender` — пол клиента\n",
    "- `income_type` — тип занятости\n",
    "- `debt` — имел ли задолженность по возврату кредитов\n",
    "- `total_income` — ежемесячный доход\n",
    "- `purpose` — цель получения кредита"
   ]
  },
  {
   "cell_type": "markdown",
   "id": "81627ff5",
   "metadata": {},
   "source": [
    "## Шаг 1. Откройте таблицу и изучите общую информацию о данных"
   ]
  },
  {
   "cell_type": "code",
   "execution_count": 1,
   "id": "882586ee",
   "metadata": {},
   "outputs": [],
   "source": [
    "import seaborn\n",
    "import pandas as pd"
   ]
  },
  {
   "cell_type": "code",
   "execution_count": null,
   "id": "52ddbc08",
   "metadata": {},
   "outputs": [],
   "source": [
    "try:\n",
    "    data = pd.read_csv('/datasets/data.csv')\n",
    "except:\n",
    "    data = pd.read_csv('https://code.s3.yandex.net/datasets/data.csv')"
   ]
  },
  {
   "cell_type": "code",
   "execution_count": 2,
   "id": "0296891a",
   "metadata": {},
   "outputs": [
    {
     "data": {
      "text/html": [
       "<div>\n",
       "<style scoped>\n",
       "    .dataframe tbody tr th:only-of-type {\n",
       "        vertical-align: middle;\n",
       "    }\n",
       "\n",
       "    .dataframe tbody tr th {\n",
       "        vertical-align: top;\n",
       "    }\n",
       "\n",
       "    .dataframe thead th {\n",
       "        text-align: right;\n",
       "    }\n",
       "</style>\n",
       "<table border=\"1\" class=\"dataframe\">\n",
       "  <thead>\n",
       "    <tr style=\"text-align: right;\">\n",
       "      <th></th>\n",
       "      <th>children</th>\n",
       "      <th>days_employed</th>\n",
       "      <th>dob_years</th>\n",
       "      <th>education</th>\n",
       "      <th>education_id</th>\n",
       "      <th>family_status</th>\n",
       "      <th>family_status_id</th>\n",
       "      <th>gender</th>\n",
       "      <th>income_type</th>\n",
       "      <th>debt</th>\n",
       "      <th>total_income</th>\n",
       "      <th>purpose</th>\n",
       "    </tr>\n",
       "  </thead>\n",
       "  <tbody>\n",
       "    <tr>\n",
       "      <th>0</th>\n",
       "      <td>1</td>\n",
       "      <td>-8437.673028</td>\n",
       "      <td>42</td>\n",
       "      <td>высшее</td>\n",
       "      <td>0</td>\n",
       "      <td>женат / замужем</td>\n",
       "      <td>0</td>\n",
       "      <td>F</td>\n",
       "      <td>сотрудник</td>\n",
       "      <td>0</td>\n",
       "      <td>253875.639453</td>\n",
       "      <td>покупка жилья</td>\n",
       "    </tr>\n",
       "    <tr>\n",
       "      <th>1</th>\n",
       "      <td>1</td>\n",
       "      <td>-4024.803754</td>\n",
       "      <td>36</td>\n",
       "      <td>среднее</td>\n",
       "      <td>1</td>\n",
       "      <td>женат / замужем</td>\n",
       "      <td>0</td>\n",
       "      <td>F</td>\n",
       "      <td>сотрудник</td>\n",
       "      <td>0</td>\n",
       "      <td>112080.014102</td>\n",
       "      <td>приобретение автомобиля</td>\n",
       "    </tr>\n",
       "    <tr>\n",
       "      <th>2</th>\n",
       "      <td>0</td>\n",
       "      <td>-5623.422610</td>\n",
       "      <td>33</td>\n",
       "      <td>Среднее</td>\n",
       "      <td>1</td>\n",
       "      <td>женат / замужем</td>\n",
       "      <td>0</td>\n",
       "      <td>M</td>\n",
       "      <td>сотрудник</td>\n",
       "      <td>0</td>\n",
       "      <td>145885.952297</td>\n",
       "      <td>покупка жилья</td>\n",
       "    </tr>\n",
       "    <tr>\n",
       "      <th>3</th>\n",
       "      <td>3</td>\n",
       "      <td>-4124.747207</td>\n",
       "      <td>32</td>\n",
       "      <td>среднее</td>\n",
       "      <td>1</td>\n",
       "      <td>женат / замужем</td>\n",
       "      <td>0</td>\n",
       "      <td>M</td>\n",
       "      <td>сотрудник</td>\n",
       "      <td>0</td>\n",
       "      <td>267628.550329</td>\n",
       "      <td>дополнительное образование</td>\n",
       "    </tr>\n",
       "    <tr>\n",
       "      <th>4</th>\n",
       "      <td>0</td>\n",
       "      <td>340266.072047</td>\n",
       "      <td>53</td>\n",
       "      <td>среднее</td>\n",
       "      <td>1</td>\n",
       "      <td>гражданский брак</td>\n",
       "      <td>1</td>\n",
       "      <td>F</td>\n",
       "      <td>пенсионер</td>\n",
       "      <td>0</td>\n",
       "      <td>158616.077870</td>\n",
       "      <td>сыграть свадьбу</td>\n",
       "    </tr>\n",
       "  </tbody>\n",
       "</table>\n",
       "</div>"
      ],
      "text/plain": [
       "   children  days_employed  dob_years education  education_id  \\\n",
       "0         1   -8437.673028         42    высшее             0   \n",
       "1         1   -4024.803754         36   среднее             1   \n",
       "2         0   -5623.422610         33   Среднее             1   \n",
       "3         3   -4124.747207         32   среднее             1   \n",
       "4         0  340266.072047         53   среднее             1   \n",
       "\n",
       "      family_status  family_status_id gender income_type  debt   total_income  \\\n",
       "0   женат / замужем                 0      F   сотрудник     0  253875.639453   \n",
       "1   женат / замужем                 0      F   сотрудник     0  112080.014102   \n",
       "2   женат / замужем                 0      M   сотрудник     0  145885.952297   \n",
       "3   женат / замужем                 0      M   сотрудник     0  267628.550329   \n",
       "4  гражданский брак                 1      F   пенсионер     0  158616.077870   \n",
       "\n",
       "                      purpose  \n",
       "0               покупка жилья  \n",
       "1     приобретение автомобиля  \n",
       "2               покупка жилья  \n",
       "3  дополнительное образование  \n",
       "4             сыграть свадьбу  "
      ]
     },
     "execution_count": 2,
     "metadata": {},
     "output_type": "execute_result"
    }
   ],
   "source": [
    "data.head()"
   ]
  },
  {
   "cell_type": "code",
   "execution_count": 3,
   "id": "68705ece",
   "metadata": {},
   "outputs": [
    {
     "name": "stdout",
     "output_type": "stream",
     "text": [
      "<class 'pandas.core.frame.DataFrame'>\n",
      "RangeIndex: 21525 entries, 0 to 21524\n",
      "Data columns (total 12 columns):\n",
      " #   Column            Non-Null Count  Dtype  \n",
      "---  ------            --------------  -----  \n",
      " 0   children          21525 non-null  int64  \n",
      " 1   days_employed     19351 non-null  float64\n",
      " 2   dob_years         21525 non-null  int64  \n",
      " 3   education         21525 non-null  object \n",
      " 4   education_id      21525 non-null  int64  \n",
      " 5   family_status     21525 non-null  object \n",
      " 6   family_status_id  21525 non-null  int64  \n",
      " 7   gender            21525 non-null  object \n",
      " 8   income_type       21525 non-null  object \n",
      " 9   debt              21525 non-null  int64  \n",
      " 10  total_income      19351 non-null  float64\n",
      " 11  purpose           21525 non-null  object \n",
      "dtypes: float64(2), int64(5), object(5)\n",
      "memory usage: 2.0+ MB\n"
     ]
    }
   ],
   "source": [
    "data.info()"
   ]
  },
  {
   "cell_type": "markdown",
   "id": "333ebb67",
   "metadata": {},
   "source": [
    "## Шаг 2. Предобработка данных"
   ]
  },
  {
   "cell_type": "markdown",
   "id": "5cd94b7d",
   "metadata": {},
   "source": [
    "### Удаление пропусков"
   ]
  },
  {
   "cell_type": "code",
   "execution_count": 4,
   "id": "27950eab",
   "metadata": {},
   "outputs": [
    {
     "data": {
      "text/plain": [
       "children               0\n",
       "days_employed       2174\n",
       "dob_years              0\n",
       "education              0\n",
       "education_id           0\n",
       "family_status          0\n",
       "family_status_id       0\n",
       "gender                 0\n",
       "income_type            0\n",
       "debt                   0\n",
       "total_income        2174\n",
       "purpose                0\n",
       "dtype: int64"
      ]
     },
     "execution_count": 4,
     "metadata": {},
     "output_type": "execute_result"
    }
   ],
   "source": [
    "data.isna().sum()"
   ]
  },
  {
   "cell_type": "code",
   "execution_count": 5,
   "id": "ba01d35a",
   "metadata": {},
   "outputs": [],
   "source": [
    "for t in data['income_type'].unique():\n",
    "    data.loc[(data['income_type'] == t) & (data['total_income'].isna()), 'total_income'] = \\\n",
    "    data.loc[(data['income_type'] == t), 'total_income'].median()"
   ]
  },
  {
   "cell_type": "markdown",
   "id": "00143376",
   "metadata": {},
   "source": [
    "### Обработка аномальных значений"
   ]
  },
  {
   "cell_type": "code",
   "execution_count": 6,
   "id": "22a5423c",
   "metadata": {},
   "outputs": [],
   "source": [
    "data['days_employed'] = data['days_employed'].abs()"
   ]
  },
  {
   "cell_type": "code",
   "execution_count": 7,
   "id": "93fda7e8",
   "metadata": {},
   "outputs": [
    {
     "data": {
      "text/plain": [
       "income_type\n",
       "безработный        366413.652744\n",
       "в декрете            3296.759962\n",
       "госслужащий          2689.368353\n",
       "компаньон            1547.382223\n",
       "пенсионер          365213.306266\n",
       "предприниматель       520.848083\n",
       "сотрудник            1574.202821\n",
       "студент               578.751554\n",
       "Name: days_employed, dtype: float64"
      ]
     },
     "execution_count": 7,
     "metadata": {},
     "output_type": "execute_result"
    }
   ],
   "source": [
    "data.groupby('income_type')['days_employed'].agg('median')"
   ]
  },
  {
   "cell_type": "markdown",
   "id": "c0ed84d6",
   "metadata": {},
   "source": [
    "У двух типов (безработные и пенсионеры) получатся аномально большие значения. Исправить такие значения сложно, поэтому оставим их как есть. Тем более этот столбец не понадобится нам для исследования."
   ]
  },
  {
   "cell_type": "code",
   "execution_count": 8,
   "id": "2692eba0",
   "metadata": {},
   "outputs": [
    {
     "data": {
      "text/plain": [
       "array([ 1,  0,  3,  2, -1,  4, 20,  5], dtype=int64)"
      ]
     },
     "execution_count": 8,
     "metadata": {},
     "output_type": "execute_result"
    }
   ],
   "source": [
    "data['children'].unique()"
   ]
  },
  {
   "cell_type": "code",
   "execution_count": 9,
   "id": "272a1e9d",
   "metadata": {},
   "outputs": [],
   "source": [
    "data = data[(data['children'] != -1) & (data['children'] != 20)]"
   ]
  },
  {
   "cell_type": "code",
   "execution_count": 10,
   "id": "c1928558",
   "metadata": {},
   "outputs": [
    {
     "data": {
      "text/plain": [
       "array([1, 0, 3, 2, 4, 5], dtype=int64)"
      ]
     },
     "execution_count": 10,
     "metadata": {},
     "output_type": "execute_result"
    }
   ],
   "source": [
    "data['children'].unique()"
   ]
  },
  {
   "cell_type": "markdown",
   "id": "3c1227ba",
   "metadata": {},
   "source": [
    "### Удаление пропусков (продолжение)"
   ]
  },
  {
   "cell_type": "code",
   "execution_count": 13,
   "id": "063fad3c",
   "metadata": {},
   "outputs": [],
   "source": [
    "#заполнить пропуски в столбце days_employed медианными значениями по каждого типа занятости income_type\n",
    "for t in data['income_type'].unique():\n",
    "    data.loc[(data['income_type'] == t) & (data['days_employed'].isna()), 'days_employed'] = \\\n",
    "    data.loc[(data['income_type'] == t), 'days_employed'].median()"
   ]
  },
  {
   "cell_type": "code",
   "execution_count": 12,
   "id": "5785f6c7",
   "metadata": {},
   "outputs": [
    {
     "data": {
      "text/plain": [
       "children            0\n",
       "days_employed       0\n",
       "dob_years           0\n",
       "education           0\n",
       "education_id        0\n",
       "family_status       0\n",
       "family_status_id    0\n",
       "gender              0\n",
       "income_type         0\n",
       "debt                0\n",
       "total_income        0\n",
       "purpose             0\n",
       "dtype: int64"
      ]
     },
     "execution_count": 12,
     "metadata": {},
     "output_type": "execute_result"
    }
   ],
   "source": [
    "data.isna().sum()"
   ]
  },
  {
   "cell_type": "markdown",
   "id": "e566f0a3",
   "metadata": {},
   "source": [
    "### Изменение типов данных"
   ]
  },
  {
   "cell_type": "code",
   "execution_count": 14,
   "id": "c39bdcc2",
   "metadata": {},
   "outputs": [],
   "source": [
    "data['total_income'] = data['total_income'].astype(int)"
   ]
  },
  {
   "cell_type": "markdown",
   "id": "f7dd41dc",
   "metadata": {},
   "source": [
    "### Обработка дубликатов"
   ]
  },
  {
   "cell_type": "code",
   "execution_count": 15,
   "id": "1c09c4a5",
   "metadata": {},
   "outputs": [],
   "source": [
    "data['education'] = data['education'].str.lower()"
   ]
  },
  {
   "cell_type": "code",
   "execution_count": 16,
   "id": "32b12c39",
   "metadata": {},
   "outputs": [
    {
     "data": {
      "text/plain": [
       "71"
      ]
     },
     "execution_count": 16,
     "metadata": {},
     "output_type": "execute_result"
    }
   ],
   "source": [
    "data.duplicated().sum()"
   ]
  },
  {
   "cell_type": "code",
   "execution_count": 17,
   "id": "4473e932",
   "metadata": {},
   "outputs": [],
   "source": [
    "data = data.drop_duplicates()"
   ]
  },
  {
   "cell_type": "markdown",
   "id": "f8bef0b6",
   "metadata": {},
   "source": [
    "### Категоризация данных"
   ]
  },
  {
   "cell_type": "code",
   "execution_count": 18,
   "id": "30d5f351",
   "metadata": {},
   "outputs": [],
   "source": [
    "def categorize_income(income):\n",
    "    try:\n",
    "        if 0 <= income <= 30000:\n",
    "            return 'E'\n",
    "        elif 30001 <= income <= 50000:\n",
    "            return 'D'\n",
    "        elif 50001 <= income <= 200000:\n",
    "            return 'C'\n",
    "        elif 200001 <= income <= 1000000:\n",
    "            return 'B'\n",
    "        elif income >= 1000001:\n",
    "            return 'A'\n",
    "    except:\n",
    "        pass"
   ]
  },
  {
   "cell_type": "code",
   "execution_count": 19,
   "id": "cd05a579",
   "metadata": {},
   "outputs": [],
   "source": [
    "data['total_income_category'] = data['total_income'].apply(categorize_income)"
   ]
  },
  {
   "cell_type": "code",
   "execution_count": 20,
   "id": "cbc4d418",
   "metadata": {},
   "outputs": [
    {
     "data": {
      "text/plain": [
       "array(['покупка жилья', 'приобретение автомобиля',\n",
       "       'дополнительное образование', 'сыграть свадьбу',\n",
       "       'операции с жильем', 'образование', 'на проведение свадьбы',\n",
       "       'покупка жилья для семьи', 'покупка недвижимости',\n",
       "       'покупка коммерческой недвижимости', 'покупка жилой недвижимости',\n",
       "       'строительство собственной недвижимости', 'недвижимость',\n",
       "       'строительство недвижимости', 'на покупку подержанного автомобиля',\n",
       "       'на покупку своего автомобиля',\n",
       "       'операции с коммерческой недвижимостью',\n",
       "       'строительство жилой недвижимости', 'жилье',\n",
       "       'операции со своей недвижимостью', 'автомобили',\n",
       "       'заняться образованием', 'сделка с подержанным автомобилем',\n",
       "       'получение образования', 'автомобиль', 'свадьба',\n",
       "       'получение дополнительного образования', 'покупка своего жилья',\n",
       "       'операции с недвижимостью', 'получение высшего образования',\n",
       "       'свой автомобиль', 'сделка с автомобилем',\n",
       "       'профильное образование', 'высшее образование',\n",
       "       'покупка жилья для сдачи', 'на покупку автомобиля', 'ремонт жилью',\n",
       "       'заняться высшим образованием'], dtype=object)"
      ]
     },
     "execution_count": 20,
     "metadata": {},
     "output_type": "execute_result"
    }
   ],
   "source": [
    "data['purpose'].unique()"
   ]
  },
  {
   "cell_type": "code",
   "execution_count": 21,
   "id": "2213dea5",
   "metadata": {},
   "outputs": [],
   "source": [
    "def categorize_purpose(row):\n",
    "    try:\n",
    "        if 'автом' in row:\n",
    "            return 'операции с автомобилем'\n",
    "        elif 'жил' in row or 'недвиж' in row:\n",
    "            return 'операции с недвижимостью'\n",
    "        elif 'свад' in row:\n",
    "            return 'проведение свадьбы'\n",
    "        elif 'образов' in row:\n",
    "            return 'получение образования'\n",
    "    except:\n",
    "        return 'нет категории'"
   ]
  },
  {
   "cell_type": "code",
   "execution_count": 22,
   "id": "6ee982f1",
   "metadata": {},
   "outputs": [],
   "source": [
    "data['purpose_category'] = data['purpose'].apply(categorize_purpose)"
   ]
  },
  {
   "cell_type": "markdown",
   "id": "d44ee859",
   "metadata": {},
   "source": [
    "### Шаг 3. Исследуйте данные и ответьте на вопросы"
   ]
  },
  {
   "cell_type": "markdown",
   "id": "5d488d6b",
   "metadata": {},
   "source": [
    "#### 3.1 Есть ли зависимость между количеством детей и возвратом кредита в срок?"
   ]
  },
  {
   "cell_type": "code",
   "execution_count": 23,
   "id": "0b27a40b",
   "metadata": {},
   "outputs": [
    {
     "name": "stdout",
     "output_type": "stream",
     "text": [
      "children\n",
      "0    7.543822\n",
      "1    9.234609\n",
      "2    9.454191\n",
      "3    8.181818\n",
      "4    9.756098\n",
      "5    0.000000\n",
      "Name: debt, dtype: float64\n"
     ]
    }
   ],
   "source": [
    "#найдем процент людей, имеющих задолженность, от всех людей с таким количеством детей\n",
    "conversion_children = data.groupby('children')['debt'].sum() / data.groupby('children')['debt'].count() * 100\n",
    "print(conversion_children)"
   ]
  },
  {
   "cell_type": "code",
   "execution_count": 24,
   "id": "86b26cf4",
   "metadata": {},
   "outputs": [
    {
     "data": {
      "text/plain": [
       "children\n",
       "0    14091\n",
       "1     4808\n",
       "2     2052\n",
       "3      330\n",
       "4       41\n",
       "5        9\n",
       "Name: debt, dtype: int64"
      ]
     },
     "execution_count": 24,
     "metadata": {},
     "output_type": "execute_result"
    }
   ],
   "source": [
    "#в целом процент практически одинаковый, но выбивается значение по людям с 5 детьми, посмотрим сколько в целом у нас таких людей\n",
    "data.groupby('children')['debt'].count()"
   ]
  },
  {
   "cell_type": "code",
   "execution_count": 25,
   "id": "4cd43d34",
   "metadata": {},
   "outputs": [
    {
     "data": {
      "text/plain": [
       "<AxesSubplot:xlabel='children', ylabel='debt'>"
      ]
     },
     "execution_count": 25,
     "metadata": {},
     "output_type": "execute_result"
    },
    {
     "data": {
      "image/png": "[encoded data removed]",
      "text/plain": [
       "<Figure size 640x480 with 1 Axes>"
      ]
     },
     "metadata": {},
     "output_type": "display_data"
    }
   ],
   "source": [
    "seaborn.barplot(x = data['children'], y = data['debt'])"
   ]
  },
  {
   "cell_type": "markdown",
   "id": "76514af3",
   "metadata": {},
   "source": [
    "**Вывод:** Люди с детьми и без детей отдают кредиты примерно одинаково. Люди без детей немного лучше отдают кредиты, но разница в 1-2% может быть погрешностью. Мы не можем из-за разницы в 1-2% считать отсутсвие детей ключевым фактором для одобрения кредита. \n",
    "У людей с 5 детьми вообще не было задолженностей по кредитам, но мы не можем брать эти данные во внимание, так как выборка не репрезентативна."
   ]
  },
  {
   "cell_type": "markdown",
   "id": "05487185",
   "metadata": {},
   "source": [
    "#### 3.2 Есть ли зависимость между семейным положением и возвратом кредита в срок?"
   ]
  },
  {
   "cell_type": "code",
   "execution_count": 26,
   "id": "2d682788",
   "metadata": {},
   "outputs": [
    {
     "name": "stdout",
     "output_type": "stream",
     "text": [
      "                       sum  count      mean\n",
      "                      debt   debt      debt\n",
      "family_status                              \n",
      "Не женат / не замужем  273   2796  9.763948\n",
      "в разводе               84   1189  7.064760\n",
      "вдовец / вдова          63    951  6.624606\n",
      "гражданский брак       385   4134  9.313014\n",
      "женат / замужем        927  12261  7.560558\n"
     ]
    }
   ],
   "source": [
    "#найдем процент людей, имеющих задолженность, от всех людей с таким же семейном положением\n",
    "family_table = data.pivot_table(index = 'family_status', values = 'debt', aggfunc = ['sum', 'count', 'mean'])\n",
    "family_table['mean'] = family_table['mean']*100\n",
    "print(family_table)"
   ]
  },
  {
   "cell_type": "code",
   "execution_count": 27,
   "id": "94086233",
   "metadata": {},
   "outputs": [
    {
     "data": {
      "text/plain": [
       "<AxesSubplot:xlabel='debt', ylabel='family_status'>"
      ]
     },
     "execution_count": 27,
     "metadata": {},
     "output_type": "execute_result"
    },
    {
     "data": {
      "image/png": "[encoded data removed]",
      "text/plain": [
       "<Figure size 640x480 with 1 Axes>"
      ]
     },
     "metadata": {},
     "output_type": "display_data"
    }
   ],
   "source": [
    "seaborn.barplot(x = data['debt'], y = data['family_status'])"
   ]
  },
  {
   "cell_type": "markdown",
   "id": "4b09d80f",
   "metadata": {},
   "source": [
    "**Вывод:** Самые плохие показатели у не замужних/не женатых людей и людей, состоящих в гражданском браке. Меньше всех имели задолженности по кредитам вдовы/вдовцы. Получается, что наличие 2 кормильцев в семье не влияет на возвращение кредита в срок."
   ]
  },
  {
   "cell_type": "markdown",
   "id": "c7abec98",
   "metadata": {},
   "source": [
    "#### 3.3 Есть ли зависимость между уровнем дохода и возвратом кредита в срок?"
   ]
  },
  {
   "cell_type": "code",
   "execution_count": 28,
   "id": "3477bc13",
   "metadata": {},
   "outputs": [
    {
     "name": "stdout",
     "output_type": "stream",
     "text": [
      "                       debt                 \n",
      "                        sum  count      mean\n",
      "total_income_category                       \n",
      "A                         2     25  0.080000\n",
      "B                       354   5014  0.070602\n",
      "C                      1353  15921  0.084982\n",
      "D                        21    349  0.060172\n",
      "E                         2     22  0.090909\n"
     ]
    }
   ],
   "source": [
    "#найдем процент людей, имеющих задолженность, от всех людей с таким же уровнем дохода\n",
    "conversion_total_income = data.groupby('total_income_category').agg({'debt' : ['sum', 'count', 'mean']})\n",
    "print(conversion_total_income)"
   ]
  },
  {
   "cell_type": "code",
   "execution_count": 29,
   "id": "11b318cb",
   "metadata": {},
   "outputs": [
    {
     "data": {
      "text/plain": [
       "<AxesSubplot:xlabel='total_income_category', ylabel='debt'>"
      ]
     },
     "execution_count": 29,
     "metadata": {},
     "output_type": "execute_result"
    },
    {
     "data": {
      "image/png": "[encoded data removed]",
      "text/plain": [
       "<Figure size 640x480 with 1 Axes>"
      ]
     },
     "metadata": {},
     "output_type": "display_data"
    }
   ],
   "source": [
    "seaborn.barplot(x = data['total_income_category'], y = data['debt'])\n",
    "#не понимаю почему категории идут не подряд, почему А перемещается в крайне правое положение?"
   ]
  },
  {
   "cell_type": "markdown",
   "id": "4cb66bb8",
   "metadata": {},
   "source": [
    "**Вывод:** Люди с низкими доходами (категория E < 30000) возвращает кредиты хуже всего, что вполне логично - им не хватает на жизнь, они берут кредиты, а возвращать нечем. Самые лучшие показатели у людей с средним заработком, не превыщающем 50тыс. При этом люди со сверхвысоким доходом довольно часто не отдают кредиты в срок. Возможно, это связано с крупными объектами/проектами, которые несут в себе большие риски.  "
   ]
  },
  {
   "cell_type": "markdown",
   "id": "0398e55e",
   "metadata": {},
   "source": [
    "#### 3.4 Как разные цели кредита влияют на его возврат в срок?"
   ]
  },
  {
   "cell_type": "code",
   "execution_count": 30,
   "id": "e676e291",
   "metadata": {},
   "outputs": [
    {
     "name": "stdout",
     "output_type": "stream",
     "text": [
      "                          sum  count      mean\n",
      "                         debt   debt      debt\n",
      "purpose_category                              \n",
      "операции с автомобилем    400   4279  9.347978\n",
      "операции с недвижимостью  780  10751  7.255139\n",
      "получение образования     369   3988  9.252758\n",
      "проведение свадьбы        183   2313  7.911803\n"
     ]
    }
   ],
   "source": [
    "#найдем процент людей, имеющих задолженность, от всех людей с такой же целью кредита\n",
    "purpose_table = data.pivot_table(index = 'purpose_category', values = 'debt', aggfunc = ['sum', 'count', 'mean'])\n",
    "purpose_table['mean'] = purpose_table['mean']*100\n",
    "print(purpose_table)"
   ]
  },
  {
   "cell_type": "code",
   "execution_count": 31,
   "id": "ea5dc72a",
   "metadata": {},
   "outputs": [
    {
     "data": {
      "text/plain": [
       "<AxesSubplot:xlabel='debt', ylabel='purpose_category'>"
      ]
     },
     "execution_count": 31,
     "metadata": {},
     "output_type": "execute_result"
    },
    {
     "data": {
      "image/png": "[encoded data removed]",
      "text/plain": [
       "<Figure size 640x480 with 1 Axes>"
      ]
     },
     "metadata": {},
     "output_type": "display_data"
    }
   ],
   "source": [
    "seaborn.barplot(x = data['debt'], y = data['purpose_category'])"
   ]
  },
  {
   "cell_type": "markdown",
   "id": "e581d62a",
   "metadata": {},
   "source": [
    "**Вывод:** Лучше всего отдают кредиты люди, которые брали деньги для приобретения недвижимости. Это, в большинстве случаев, самая большая и дорогая покупка в жизни людей, к которой готовятся много лет и тщательно считают свои возможности. Плохие показатели показывают люди, которые берут деньги для приобретения автомобиля и получения образования. "
   ]
  },
  {
   "cell_type": "markdown",
   "id": "c6eb9119",
   "metadata": {},
   "source": [
    "### Шаг 4: общий вывод."
   ]
  },
  {
   "cell_type": "markdown",
   "id": "f46d5d2b",
   "metadata": {},
   "source": [
    "В ходе работы были выявлены пропуски - заполнила их медианным значением по каждому типу занятости, также были выявлены и устранены аномалии (например, отрицательное (-1) или слишком большое (20) количество детей).\n",
    "Были выявлены и удалены дубликаты (71) , которые образовались из-за использования разных регистров.  \n",
    "Для удобства использования данных доходы людей распредилила по категориям, получилось 5 диапозонов:  \n",
    "* 0–30000 — 'E';  \n",
    "* 30001–50000 — 'D';  \n",
    "* 50001–200000 — 'C';  \n",
    "* 200001–1000000 — 'B';  \n",
    "* 1000001 и выше — 'A'.  \n",
    "\n",
    "Также при анализе целей кредита было выявлено, что люди берут кредиты на 4 цели:  \n",
    "'операции с автомобилем', 'операции с недвижимостью', 'проведение свадьбы' и 'получение образования'.  \n",
    "\n",
    "\n",
    "В ходе анализа было выявлено, что `наличие детей` сказывается `положительным образом` на возврат кредита в срок (на 1-2% люди с детьми отдают кредиты лучше), при этом `количество детей` в семье `не влияет` на возврат кредита в срок, также как и `не влияет наличие 2 кормильцев` в семье. При этом `не замужние/не женатые` люди и люди, состоящие в `гражданском браке` показывают `худший результат`, возможно, это связано с их возрастом. \n",
    "`Доходы людей влияют` на возврат кредита в срок, но самые `лучшие результаты` показывают люди со `средним` заработком, а вот люди с `очень низким заработком` (до 30 тысяч в месяц) и, наоборот, со `сверхвысоким` (больше 1 млн в месяц) показывают `худшие показатели` возврата кредита в срок. \n",
    "Если цель кредита `\"операция с недвижимостью\"  или \" проведение свадьбы\"`, то `вероятнее` (на 2%) кредит будет возвращен в срок, чем кредит, целью которого является `\"получение образования\"` или `\"операции с автомобилем\"`.  \n",
    "\n",
    "\n",
    "**После полного анализа можно сделать вывод:**  \n",
    "Явной зависимости возврата кредита в срок от наличия детей, семейного положения, уровня дохода и целью кредита нет, но есть общие тенденции, которые на больших цифрах могут влиять на кредитный портфель банка. Особое внимание следует уделять не замужним/не женатым людям с низкими доходами, берущими кредит на автомобиль или образование. Также следует более подробно изучать цель кредита у людей со сверхдоходами.  \n",
    "\n",
    "\n",
    "При сборе данных лучше стаж считать в годах (мало кто знает свой стаж в днях), поле ежемесячный доход сделать обязательным к заполнению, а в поле количества детей сделать невозможным заполнение отрицательным значением."
   ]
  }
 ],
 "metadata": {
  "kernelspec": {
   "display_name": "Python 3 (ipykernel)",
   "language": "python",
   "name": "python3"
  },
  "language_info": {
   "codemirror_mode": {
    "name": "ipython",
    "version": 3
   },
   "file_extension": ".py",
   "mimetype": "text/x-python",
   "name": "python",
   "nbconvert_exporter": "python",
   "pygments_lexer": "ipython3",
   "version": "3.9.16"
  }
 },
 "nbformat": 4,
 "nbformat_minor": 5
}
