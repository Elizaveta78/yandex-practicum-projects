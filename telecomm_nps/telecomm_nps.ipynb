{
 "cells": [
  {
   "cell_type": "markdown",
   "id": "97b9206f",
   "metadata": {},
   "source": [
    "# Исследование уровня потребительской лояльности в телекоммуникационной компании"
   ]
  },
  {
   "cell_type": "markdown",
   "id": "63b8e136",
   "metadata": {},
   "source": [
    "## Описание проекта"
   ]
  },
  {
   "cell_type": "markdown",
   "id": "af7ff56b",
   "metadata": {},
   "source": [
    "В этом учебном проекте необходимо построить дашборд для оценки уровня потребительской лояльности (NPS) в телекоммуникационной компании после проведенного опроса, а также ответить на вопросы с помощью этого дашборда и презентовать результаты в презентации.  \n",
    "Данные опроса были выгружены в SQLite. Необходимо выгрузить эти данные в виде таблицы, состоящей из полей:\n",
    "- `user_id` - Идентификатор клиента;\n",
    "- `lt_day` - Количество дней «жизни» клиента;\n",
    "- `is_new` - Поле хранит информацию о том, является ли клиент новым;\n",
    "- `age` - Возраст;\n",
    "- `gender_segment` - Пол (в текстовом виде);\n",
    "- `os_name` - Тип операционной системы;\n",
    "- `cpe_type_name` - Тип устройства;\n",
    "- `country` - Страна проживания;\n",
    "- `city` - Город проживания;\n",
    "- `age_segment` - Возрастной сегмент;\n",
    "- `traffic_segment` - Сегмент по объёму потребляемого трафика;\n",
    "- `lifetime_segment` - Сегмент по количеству дней «жизни»;\n",
    "- `nps_score` - Оценка клиента в NPS-опросе;\n",
    "- `nps_group` - Поле хранит информацию о том, к какой группе относится оценка клиента в опросе;"
   ]
  },
  {
   "cell_type": "code",
   "execution_count": 1,
   "id": "fc7efa54",
   "metadata": {},
   "outputs": [],
   "source": [
    "#импортируем библиотеки\n",
    "import os\n",
    "import pandas as pd\n",
    "import numpy as np\n",
    "\n",
    "from sqlalchemy import create_engine"
   ]
  },
  {
   "cell_type": "code",
   "execution_count": 15,
   "id": "d50101ea",
   "metadata": {},
   "outputs": [],
   "source": [
    "#подключаемся к базе\n",
    "path_to_db_local = 'telecomm_csi.db'\n",
    "path_to_db_platform = '/datasets/telecomm_csi.db'\n",
    "path_to_db = None\n",
    "\n",
    "if os.path.exists(path_to_db_local):\n",
    "    path_to_db = path_to_db_local\n",
    "\n",
    "elif os.path.exists(path_to_db_platform):\n",
    "    path_to_db = path_to_db_platform\n",
    "\n",
    "else:\n",
    "    raise Exception('Файл с базой данных SQLite не найден!')\n",
    "\n",
    "\n",
    "if path_to_db:\n",
    "  \n",
    "    engine = create_engine(f'sqlite:///{path_to_db}', echo=False)"
   ]
  },
  {
   "cell_type": "code",
   "execution_count": 16,
   "id": "84ebad43",
   "metadata": {},
   "outputs": [],
   "source": [
    "#с помощью SQL запроса выводим таблицу в нужном виде\n",
    "query = \"\"\"\n",
    "SELECT user_id,\n",
    "       lt_day,\n",
    "       CASE \n",
    "           WHEN lt_day <= 365 THEN 'New'\n",
    "           WHEN lt_day > 365 THEN 'Old'\n",
    "       END as is_new,\n",
    "       age,\n",
    "       CASE \n",
    "           WHEN gender_segment = 0.0 THEN 'M'\n",
    "           WHEN gender_segment = 1.0 THEN 'F'\n",
    "       END as gender_segment,\n",
    "       os_name,\n",
    "       cpe_type_name,\n",
    "       l.country,\n",
    "       l.city,\n",
    "       SUBSTRING(age.title, 4) as age_segment,\n",
    "       SUBSTRING(tr.title, 4) as traffic_segment,\n",
    "       SUBSTRING(lt.title, 4) as lifetime_segment,\n",
    "       nps_score,\n",
    "       CASE\n",
    "           WHEN nps_score >= 9 THEN 'promoters'\n",
    "           WHEN nps_score = 7 OR nps_score = 8 THEN 'passives'\n",
    "           WHEN nps_score <= 6 THEN 'detractors'\n",
    "        END as nps_group\n",
    "FROM user as u\n",
    "LEFT JOIN location as l ON u.location_id = l.location_id\n",
    "LEFT JOIN age_segment as age ON u.age_gr_id= age.age_gr_id\n",
    "LEFT JOIN traffic_segment as tr ON u.tr_gr_id= tr.tr_gr_id\n",
    "LEFT JOIN lifetime_segment as lt ON u.lt_gr_id= lt.lt_gr_id\n",
    "WHERE gender_segment IS NOT NULL AND age IS NOT NULL\n",
    "\"\"\""
   ]
  },
  {
   "cell_type": "code",
   "execution_count": 17,
   "id": "3965faf2",
   "metadata": {},
   "outputs": [
    {
     "data": {
      "text/html": [
       "<div>\n",
       "<style scoped>\n",
       "    .dataframe tbody tr th:only-of-type {\n",
       "        vertical-align: middle;\n",
       "    }\n",
       "\n",
       "    .dataframe tbody tr th {\n",
       "        vertical-align: top;\n",
       "    }\n",
       "\n",
       "    .dataframe thead th {\n",
       "        text-align: right;\n",
       "    }\n",
       "</style>\n",
       "<table border=\"1\" class=\"dataframe\">\n",
       "  <thead>\n",
       "    <tr style=\"text-align: right;\">\n",
       "      <th></th>\n",
       "      <th>user_id</th>\n",
       "      <th>lt_day</th>\n",
       "      <th>is_new</th>\n",
       "      <th>age</th>\n",
       "      <th>gender_segment</th>\n",
       "      <th>os_name</th>\n",
       "      <th>cpe_type_name</th>\n",
       "      <th>country</th>\n",
       "      <th>city</th>\n",
       "      <th>age_segment</th>\n",
       "      <th>traffic_segment</th>\n",
       "      <th>lifetime_segment</th>\n",
       "      <th>nps_score</th>\n",
       "      <th>nps_group</th>\n",
       "    </tr>\n",
       "  </thead>\n",
       "  <tbody>\n",
       "    <tr>\n",
       "      <th>0</th>\n",
       "      <td>A001A2</td>\n",
       "      <td>2320</td>\n",
       "      <td>Old</td>\n",
       "      <td>45.0</td>\n",
       "      <td>F</td>\n",
       "      <td>ANDROID</td>\n",
       "      <td>SMARTPHONE</td>\n",
       "      <td>Россия</td>\n",
       "      <td>Уфа</td>\n",
       "      <td>45-54</td>\n",
       "      <td>1-5</td>\n",
       "      <td>36+</td>\n",
       "      <td>10</td>\n",
       "      <td>promoters</td>\n",
       "    </tr>\n",
       "    <tr>\n",
       "      <th>1</th>\n",
       "      <td>A001WF</td>\n",
       "      <td>2344</td>\n",
       "      <td>Old</td>\n",
       "      <td>53.0</td>\n",
       "      <td>M</td>\n",
       "      <td>ANDROID</td>\n",
       "      <td>SMARTPHONE</td>\n",
       "      <td>Россия</td>\n",
       "      <td>Киров</td>\n",
       "      <td>45-54</td>\n",
       "      <td>1-5</td>\n",
       "      <td>36+</td>\n",
       "      <td>10</td>\n",
       "      <td>promoters</td>\n",
       "    </tr>\n",
       "    <tr>\n",
       "      <th>2</th>\n",
       "      <td>A003Q7</td>\n",
       "      <td>467</td>\n",
       "      <td>Old</td>\n",
       "      <td>57.0</td>\n",
       "      <td>M</td>\n",
       "      <td>ANDROID</td>\n",
       "      <td>SMARTPHONE</td>\n",
       "      <td>Россия</td>\n",
       "      <td>Москва</td>\n",
       "      <td>55-64</td>\n",
       "      <td>20-25</td>\n",
       "      <td>13-24</td>\n",
       "      <td>10</td>\n",
       "      <td>promoters</td>\n",
       "    </tr>\n",
       "    <tr>\n",
       "      <th>3</th>\n",
       "      <td>A004TB</td>\n",
       "      <td>4190</td>\n",
       "      <td>Old</td>\n",
       "      <td>44.0</td>\n",
       "      <td>F</td>\n",
       "      <td>IOS</td>\n",
       "      <td>SMARTPHONE</td>\n",
       "      <td>Россия</td>\n",
       "      <td>РостовнаДону</td>\n",
       "      <td>35-44</td>\n",
       "      <td>0.1-1</td>\n",
       "      <td>36+</td>\n",
       "      <td>10</td>\n",
       "      <td>promoters</td>\n",
       "    </tr>\n",
       "    <tr>\n",
       "      <th>4</th>\n",
       "      <td>A004XT</td>\n",
       "      <td>1163</td>\n",
       "      <td>Old</td>\n",
       "      <td>24.0</td>\n",
       "      <td>M</td>\n",
       "      <td>ANDROID</td>\n",
       "      <td>SMARTPHONE</td>\n",
       "      <td>Россия</td>\n",
       "      <td>Рязань</td>\n",
       "      <td>16-24</td>\n",
       "      <td>5-10</td>\n",
       "      <td>36+</td>\n",
       "      <td>10</td>\n",
       "      <td>promoters</td>\n",
       "    </tr>\n",
       "  </tbody>\n",
       "</table>\n",
       "</div>"
      ],
      "text/plain": [
       "  user_id  lt_day is_new   age gender_segment  os_name cpe_type_name country  \\\n",
       "0  A001A2    2320    Old  45.0              F  ANDROID    SMARTPHONE  Россия   \n",
       "1  A001WF    2344    Old  53.0              M  ANDROID    SMARTPHONE  Россия   \n",
       "2  A003Q7     467    Old  57.0              M  ANDROID    SMARTPHONE  Россия   \n",
       "3  A004TB    4190    Old  44.0              F      IOS    SMARTPHONE  Россия   \n",
       "4  A004XT    1163    Old  24.0              M  ANDROID    SMARTPHONE  Россия   \n",
       "\n",
       "           city age_segment traffic_segment lifetime_segment  nps_score  \\\n",
       "0           Уфа       45-54             1-5              36+         10   \n",
       "1         Киров       45-54             1-5              36+         10   \n",
       "2        Москва       55-64           20-25            13-24         10   \n",
       "3  РостовнаДону       35-44           0.1-1              36+         10   \n",
       "4        Рязань       16-24            5-10              36+         10   \n",
       "\n",
       "   nps_group  \n",
       "0  promoters  \n",
       "1  promoters  \n",
       "2  promoters  \n",
       "3  promoters  \n",
       "4  promoters  "
      ]
     },
     "execution_count": 17,
     "metadata": {},
     "output_type": "execute_result"
    }
   ],
   "source": [
    "df = pd.read_sql(query, engine)\n",
    "df.head()"
   ]
  },
  {
   "cell_type": "code",
   "execution_count": 18,
   "id": "6a34a844",
   "metadata": {},
   "outputs": [],
   "source": [
    "#сохраняем ДатаСет для создания дашборда\n",
    "df.to_csv('telecomm.csv')"
   ]
  },
  {
   "cell_type": "markdown",
   "id": "fa007d22",
   "metadata": {},
   "source": [
    "[Дашборд](https://public.tableau.com/app/profile/elizaveta3714/viz/NPS_16794341334890/sheet0?publish=yes)"
   ]
  },
  {
   "cell_type": "markdown",
   "id": "c28f841d",
   "metadata": {},
   "source": [
    "[Презентация](https://disk.yandex.ru/i/C1gPwi-kf8ImOQ)"
   ]
  }
 ],
 "metadata": {
  "ExecuteTimeLog": [
   {
    "duration": 547,
    "start_time": "2023-03-21T15:13:46.492Z"
   },
   {
    "duration": 109,
    "start_time": "2023-03-21T15:13:47.041Z"
   },
   {
    "duration": 3,
    "start_time": "2023-03-21T15:13:47.152Z"
   },
   {
    "duration": 605,
    "start_time": "2023-03-21T15:13:47.156Z"
   },
   {
    "duration": 0,
    "start_time": "2023-03-21T15:13:47.763Z"
   },
   {
    "duration": 2,
    "start_time": "2023-03-21T15:13:58.410Z"
   },
   {
    "duration": 4603,
    "start_time": "2023-03-21T15:13:58.910Z"
   },
   {
    "duration": 3,
    "start_time": "2023-03-21T15:39:53.291Z"
   },
   {
    "duration": 532,
    "start_time": "2023-03-21T15:39:56.611Z"
   },
   {
    "duration": 2,
    "start_time": "2023-03-21T15:40:27.110Z"
   },
   {
    "duration": 622,
    "start_time": "2023-03-21T15:40:27.611Z"
   },
   {
    "duration": 2,
    "start_time": "2023-03-21T15:42:13.518Z"
   },
   {
    "duration": 4406,
    "start_time": "2023-03-21T15:42:14.078Z"
   },
   {
    "duration": 3,
    "start_time": "2023-03-21T15:44:42.858Z"
   },
   {
    "duration": 5580,
    "start_time": "2023-03-21T15:44:43.646Z"
   },
   {
    "duration": 3,
    "start_time": "2023-03-21T15:46:34.997Z"
   },
   {
    "duration": 3395,
    "start_time": "2023-03-21T15:46:35.407Z"
   },
   {
    "duration": 3499,
    "start_time": "2023-03-21T15:46:52.036Z"
   },
   {
    "duration": 3,
    "start_time": "2023-03-21T15:47:21.452Z"
   },
   {
    "duration": 5730,
    "start_time": "2023-03-21T15:47:24.095Z"
   },
   {
    "duration": 3,
    "start_time": "2023-03-21T15:50:45.114Z"
   },
   {
    "duration": 4003,
    "start_time": "2023-03-21T15:50:51.255Z"
   },
   {
    "duration": 4,
    "start_time": "2023-03-21T15:52:43.118Z"
   },
   {
    "duration": 4081,
    "start_time": "2023-03-21T15:52:43.417Z"
   },
   {
    "duration": 3,
    "start_time": "2023-03-21T15:54:46.393Z"
   },
   {
    "duration": 441,
    "start_time": "2023-03-21T15:54:48.188Z"
   },
   {
    "duration": 437,
    "start_time": "2023-03-21T15:55:01.711Z"
   },
   {
    "duration": 4,
    "start_time": "2023-03-21T15:55:22.045Z"
   },
   {
    "duration": 433,
    "start_time": "2023-03-21T15:55:25.246Z"
   },
   {
    "duration": 3,
    "start_time": "2023-03-21T15:56:28.409Z"
   },
   {
    "duration": 430,
    "start_time": "2023-03-21T15:56:28.750Z"
   },
   {
    "duration": 2,
    "start_time": "2023-03-21T15:57:44.752Z"
   },
   {
    "duration": 433,
    "start_time": "2023-03-21T15:57:45.531Z"
   },
   {
    "duration": 3,
    "start_time": "2023-03-21T16:03:29.285Z"
   },
   {
    "duration": 4218,
    "start_time": "2023-03-21T16:03:30.195Z"
   },
   {
    "duration": 3,
    "start_time": "2023-03-21T16:04:02.596Z"
   },
   {
    "duration": 4022,
    "start_time": "2023-03-21T16:04:02.996Z"
   },
   {
    "duration": 3,
    "start_time": "2023-03-21T16:04:37.166Z"
   },
   {
    "duration": 4087,
    "start_time": "2023-03-21T16:04:38.040Z"
   },
   {
    "duration": 3,
    "start_time": "2023-03-21T16:05:31.187Z"
   },
   {
    "duration": 314,
    "start_time": "2023-03-21T16:05:32.049Z"
   },
   {
    "duration": 3,
    "start_time": "2023-03-21T16:07:46.827Z"
   },
   {
    "duration": 4816,
    "start_time": "2023-03-21T16:07:47.246Z"
   },
   {
    "duration": 3,
    "start_time": "2023-03-21T16:08:14.806Z"
   },
   {
    "duration": 8,
    "start_time": "2023-03-21T16:12:32.185Z"
   },
   {
    "duration": 44,
    "start_time": "2023-03-21T16:12:33.016Z"
   },
   {
    "duration": 524,
    "start_time": "2023-03-21T16:12:39.411Z"
   },
   {
    "duration": 91,
    "start_time": "2023-03-21T16:12:39.937Z"
   },
   {
    "duration": 3,
    "start_time": "2023-03-21T16:12:40.030Z"
   },
   {
    "duration": 420,
    "start_time": "2023-03-21T16:12:40.035Z"
   },
   {
    "duration": 2,
    "start_time": "2023-03-21T16:13:02.644Z"
   },
   {
    "duration": 4795,
    "start_time": "2023-03-21T16:13:03.084Z"
   },
   {
    "duration": 3,
    "start_time": "2023-03-21T16:13:34.866Z"
   },
   {
    "duration": 4169,
    "start_time": "2023-03-21T16:13:35.433Z"
   },
   {
    "duration": 2,
    "start_time": "2023-03-21T16:16:24.550Z"
   },
   {
    "duration": 4,
    "start_time": "2023-03-21T16:16:25.228Z"
   },
   {
    "duration": 7,
    "start_time": "2023-03-21T16:16:28.500Z"
   },
   {
    "duration": 2,
    "start_time": "2023-03-21T16:16:33.610Z"
   },
   {
    "duration": 440,
    "start_time": "2023-03-21T16:16:34.112Z"
   },
   {
    "duration": 3,
    "start_time": "2023-03-21T16:18:51.984Z"
   },
   {
    "duration": 4463,
    "start_time": "2023-03-21T16:18:52.799Z"
   },
   {
    "duration": 3,
    "start_time": "2023-03-21T16:24:07.789Z"
   },
   {
    "duration": 4783,
    "start_time": "2023-03-21T16:24:08.316Z"
   },
   {
    "duration": 3,
    "start_time": "2023-03-21T16:26:14.616Z"
   },
   {
    "duration": 4783,
    "start_time": "2023-03-21T16:26:14.995Z"
   },
   {
    "duration": 4,
    "start_time": "2023-03-21T16:26:42.987Z"
   },
   {
    "duration": 4778,
    "start_time": "2023-03-21T16:26:43.350Z"
   },
   {
    "duration": 2,
    "start_time": "2023-03-21T16:28:10.915Z"
   },
   {
    "duration": 5148,
    "start_time": "2023-03-21T16:28:11.354Z"
   },
   {
    "duration": 49,
    "start_time": "2023-03-21T16:33:09.712Z"
   },
   {
    "duration": 518,
    "start_time": "2023-03-21T16:33:17.629Z"
   },
   {
    "duration": 70,
    "start_time": "2023-03-21T16:33:18.149Z"
   },
   {
    "duration": 4,
    "start_time": "2023-03-21T16:33:18.221Z"
   },
   {
    "duration": 5361,
    "start_time": "2023-03-21T16:33:18.228Z"
   },
   {
    "duration": 4564,
    "start_time": "2023-03-21T16:33:23.598Z"
   },
   {
    "duration": 512,
    "start_time": "2023-03-30T05:41:03.390Z"
   },
   {
    "duration": 19,
    "start_time": "2023-03-30T05:41:03.904Z"
   },
   {
    "duration": 3,
    "start_time": "2023-03-30T05:41:03.925Z"
   },
   {
    "duration": 5600,
    "start_time": "2023-03-30T05:41:03.929Z"
   },
   {
    "duration": 3695,
    "start_time": "2023-03-30T05:41:09.532Z"
   },
   {
    "duration": 489,
    "start_time": "2023-03-31T04:59:32.591Z"
   },
   {
    "duration": 12,
    "start_time": "2023-03-31T04:59:33.082Z"
   },
   {
    "duration": 9,
    "start_time": "2023-03-31T04:59:33.096Z"
   },
   {
    "duration": 5313,
    "start_time": "2023-03-31T04:59:33.106Z"
   },
   {
    "duration": 3919,
    "start_time": "2023-03-31T04:59:38.421Z"
   }
  ],
  "kernelspec": {
   "display_name": "Python 3 (ipykernel)",
   "language": "python",
   "name": "python3"
  },
  "language_info": {
   "codemirror_mode": {
    "name": "ipython",
    "version": 3
   },
   "file_extension": ".py",
   "mimetype": "text/x-python",
   "name": "python",
   "nbconvert_exporter": "python",
   "pygments_lexer": "ipython3",
   "version": "3.9.16"
  },
  "toc": {
   "base_numbering": 1,
   "nav_menu": {},
   "number_sections": true,
   "sideBar": true,
   "skip_h1_title": true,
   "title_cell": "Table of Contents",
   "title_sidebar": "Contents",
   "toc_cell": false,
   "toc_position": {},
   "toc_section_display": true,
   "toc_window_display": false
  }
 },
 "nbformat": 4,
 "nbformat_minor": 5
}
